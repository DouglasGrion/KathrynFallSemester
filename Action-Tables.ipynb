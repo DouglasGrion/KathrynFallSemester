{
 "cells": [
  {
   "cell_type": "code",
   "execution_count": 1,
   "metadata": {},
   "outputs": [
    {
     "name": "stdout",
     "output_type": "stream",
     "text": [
      "<TableColumns names=('idx','Jr','Jphi','Jz','Theta_r','Theta_phi','Theta_z','Freq_r','Freq_phi','Freq_z')>\n"
     ]
    }
   ],
   "source": [
    "from astropy.table import Table  \n",
    "import numpy as np\n",
    "\n",
    "data_table = Table.read('/home/douglas/Gala-code/correctactions.fits', format = 'fits') \n",
    "print(data_table[1].columns)"
   ]
  },
  {
   "cell_type": "code",
   "execution_count": 2,
   "metadata": {},
   "outputs": [
    {
     "name": "stdout",
     "output_type": "stream",
     "text": [
      "<TableColumns names=('source_id','ra','dec','parallax','e_parallax','pmra','e_pmra','pmdec','e_pmdec','vrad','e_vrad','GMag','dist','el_dist','eu_dist','rGC','el_rGC','eu_rGC','RGC','el_RGC','eu_RGC','xGC','el_xGC','eu_xGC','yGC','el_yGC','eu_yGC','zGC','el_zGC','eu_zGC','U','el_U','eu_U','V','el_V','eu_V','W','el_W','eu_W','UW','el_UW','eu_UW','vR','el_vR','eu_vR','vtot','el_vtot','eu_vtot','P_ub')>\n"
     ]
    }
   ],
   "source": [
    "marchetti = Table.read('/home/douglas/data.fits', format = 'fits')\n",
    "print(marchetti[1].columns)"
   ]
  },
  {
   "cell_type": "code",
   "execution_count": 3,
   "metadata": {},
   "outputs": [],
   "source": [
    "Jr = np.array(data_table[\"Jr\"][:119629])\n",
    "Jphi = np.array(data_table[\"Jphi\"][:119629])\n",
    "Jz = np.array(data_table[\"Jz\"][:119629])\n",
    "Or = np.array(data_table[\"Freq_r\"][:119629])\n",
    "Ophi = np.array(data_table[\"Freq_phi\"][:119629])\n",
    "Oz = np.array(data_table[\"Freq_z\"][:119629])\n",
    "idx = np.array(data_table[\"idx\"][:119629])"
   ]
  },
  {
   "cell_type": "code",
   "execution_count": 4,
   "metadata": {},
   "outputs": [],
   "source": [
    "X = []\n",
    "Y = []\n",
    "Z = []\n",
    "U = []\n",
    "V = []\n",
    "W = []\n",
    "\n",
    "for i in idx:\n",
    "    X.append(marchetti[\"xGC\"][i]*0.001)\n",
    "    Y.append(marchetti[\"yGC\"][i]*0.001)\n",
    "    Z.append(marchetti[\"zGC\"][i]*0.001)\n",
    "    U.append(marchetti[\"U\"][i])\n",
    "    V.append(marchetti[\"V\"][i])\n",
    "    W.append(marchetti[\"W\"][i])\n",
    "\n",
    "X = np.array(X)\n",
    "Y = np.array(Y)\n",
    "Z = np.array(Z)\n",
    "U = np.array(U)\n",
    "V = np.array(V)\n",
    "W = np.array(W)"
   ]
  },
  {
   "cell_type": "code",
   "execution_count": 120,
   "metadata": {},
   "outputs": [],
   "source": [
    "zmax = []\n",
    "maxr = []\n",
    "minr = []\n",
    "import astropy.units as u\n",
    "\n",
    "for i in range(0,len(Jr)):\n",
    "    #Defining Phase Space\n",
    "    phase = gd.PhaseSpacePosition(pos=[X[i], Y[i], Z[i]] *u.kpc,\n",
    "                            vel=[U[i], V[i], W[i]] *u.km/u.s)\n",
    "    \n",
    "    #Integrating orbit\n",
    "    orb = gp.Hamiltonian(pot).integrate_orbit(phase, dt=0.1, n_steps=10000)\n",
    "    \n",
    "    zmax.append(orb.zmax().value)\n",
    "    maxr.append(orb.apocenter().value)\n",
    "    minr.append(orb.pericenter().value)"
   ]
  },
  {
   "cell_type": "code",
   "execution_count": 124,
   "metadata": {},
   "outputs": [],
   "source": [
    "from astropy.io import fits\n",
    "c1 = fits.Column(name='zmax', array=np.array(zmax), format='D', unit = 'kpc')\n",
    "c2 = fits.Column(name='maxr', array=np.array(maxr), format='D', unit = 'kpc')\n",
    "c3 = fits.Column(name='minr', array=np.array(minr), format='D', unit = 'kpc')\n",
    "\n",
    "t = fits.BinTableHDU.from_columns([c1, c2, c3])\n",
    "\n",
    "t.writeto('correctorbitvalues.fits')"
   ]
  },
  {
   "cell_type": "code",
   "execution_count": null,
   "metadata": {},
   "outputs": [],
   "source": []
  }
 ],
 "metadata": {
  "kernelspec": {
   "display_name": "Python 3",
   "language": "python",
   "name": "python3"
  },
  "language_info": {
   "codemirror_mode": {
    "name": "ipython",
    "version": 3
   },
   "file_extension": ".py",
   "mimetype": "text/x-python",
   "name": "python",
   "nbconvert_exporter": "python",
   "pygments_lexer": "ipython3",
   "version": "3.6.5"
  }
 },
 "nbformat": 4,
 "nbformat_minor": 2
}
